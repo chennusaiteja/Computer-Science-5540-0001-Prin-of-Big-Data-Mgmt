{
  "nbformat": 4,
  "nbformat_minor": 0,
  "metadata": {
    "colab": {
      "name": "bigdata.ipynb",
      "provenance": []
    },
    "kernelspec": {
      "display_name": "Python 3",
      "name": "python3"
    },
    "language_info": {
      "name": "python"
    }
  },
  "cells": [
    {
      "cell_type": "code",
      "metadata": {
        "colab": {
          "base_uri": "https://localhost:8080/"
        },
        "id": "2FYkhJCqkqNM",
        "outputId": "8c28a778-6157-43b5-e1f3-37351bdc4eba"
      },
      "source": [
        "!pip install pyspark"
      ],
      "execution_count": null,
      "outputs": [
        {
          "output_type": "stream",
          "text": [
            "Collecting pyspark\n",
            "\u001b[?25l  Downloading https://files.pythonhosted.org/packages/45/b0/9d6860891ab14a39d4bddf80ba26ce51c2f9dc4805e5c6978ac0472c120a/pyspark-3.1.1.tar.gz (212.3MB)\n",
            "\u001b[K     |████████████████████████████████| 212.3MB 65kB/s \n",
            "\u001b[?25hCollecting py4j==0.10.9\n",
            "\u001b[?25l  Downloading https://files.pythonhosted.org/packages/9e/b6/6a4fb90cd235dc8e265a6a2067f2a2c99f0d91787f06aca4bcf7c23f3f80/py4j-0.10.9-py2.py3-none-any.whl (198kB)\n",
            "\u001b[K     |████████████████████████████████| 204kB 16.4MB/s \n",
            "\u001b[?25hBuilding wheels for collected packages: pyspark\n",
            "  Building wheel for pyspark (setup.py) ... \u001b[?25l\u001b[?25hdone\n",
            "  Created wheel for pyspark: filename=pyspark-3.1.1-py2.py3-none-any.whl size=212767604 sha256=6fa7d00137c7cdecc57938490594e2b94a55012e91af6308b3e7f18701486559\n",
            "  Stored in directory: /root/.cache/pip/wheels/0b/90/c0/01de724414ef122bd05f056541fb6a0ecf47c7ca655f8b3c0f\n",
            "Successfully built pyspark\n",
            "Installing collected packages: py4j, pyspark\n",
            "Successfully installed py4j-0.10.9 pyspark-3.1.1\n"
          ],
          "name": "stdout"
        }
      ]
    },
    {
      "cell_type": "code",
      "metadata": {
        "id": "pL7MtgGBk3NK"
      },
      "source": [
        "\n",
        "from pyspark import SparkConf,SparkContext\n",
        "from pyspark import mllib as ml\n",
        "from pyspark.ml.feature import Tokenizer,HashingTF,IDF,StopWordsRemover,CountVectorizer\n",
        "from pyspark.sql import SparkSession,SQLContext,Row\n",
        "from pyspark.sql.functions import lower,regexp_replace,trim\n",
        "from textblob import TextBlob\n",
        "import string\n",
        "import re\n",
        "from pyspark.sql.functions import udf\n",
        "from pyspark.sql.types import StringType,ArrayType\n",
        "import matplotlib.pyplot as plt\n",
        "%matplotlib inline  \n",
        "import pandas as pd"
      ],
      "execution_count": null,
      "outputs": []
    },
    {
      "cell_type": "code",
      "metadata": {
        "id": "VqXmdPkDCp0Q"
      },
      "source": [
        "#Configuring the Spark system, Master = local system.\n",
        "conf = SparkConf().setMaster(\"local\").setAppName(\"Project\")\n",
        "sc = SparkContext(conf=conf)"
      ],
      "execution_count": null,
      "outputs": []
    },
    {
      "cell_type": "code",
      "metadata": {
        "id": "obYlIctSlHnT"
      },
      "source": [
        "\n",
        "#Applying SQLContext to the Spark Context.\n",
        "sqlcontext = SQLContext(sc)"
      ],
      "execution_count": null,
      "outputs": []
    },
    {
      "cell_type": "code",
      "metadata": {
        "id": "mS8vRtWhm91M"
      },
      "source": [
        "#Starting a Spark Session\n",
        "spark = SparkSession(sqlcontext)"
      ],
      "execution_count": null,
      "outputs": []
    },
    {
      "cell_type": "code",
      "metadata": {
        "colab": {
          "base_uri": "https://localhost:8080/"
        },
        "id": "IyAiBdlNIpvZ",
        "outputId": "4979e8aa-26c7-4112-f2b3-af3b5b7d5aea"
      },
      "source": [
        "from google.colab import drive\n",
        "drive.mount('/content/drive')"
      ],
      "execution_count": null,
      "outputs": [
        {
          "output_type": "stream",
          "text": [
            "Drive already mounted at /content/drive; to attempt to forcibly remount, call drive.mount(\"/content/drive\", force_remount=True).\n"
          ],
          "name": "stdout"
        }
      ]
    },
    {
      "cell_type": "code",
      "metadata": {
        "id": "SPMFjIeunC36"
      },
      "source": [
        "#Reading the  data file which is taken from kaggle\n",
        "\n",
        "city = spark.read.load(\"/content/drive/MyDrive/BigData /Telecom_Data for 110 cities.csv\",\n",
        "                    format='csv',\n",
        "                    sep = ',',\n",
        "                    header='true',\n",
        "                    inferSchema='true').cache()\n"
      ],
      "execution_count": null,
      "outputs": []
    },
    {
      "cell_type": "code",
      "metadata": {
        "id": "hyqmHILVBeap"
      },
      "source": [
        "\n",
        "city = city.select(\"PROVINCIA\")\n",
        "city.createOrReplaceTempView(\"SURVEY\") "
      ],
      "execution_count": null,
      "outputs": []
    },
    {
      "cell_type": "code",
      "metadata": {
        "colab": {
          "base_uri": "https://localhost:8080/"
        },
        "id": "15BTuznlEJRq",
        "outputId": "100d9f24-a472-48a9-b5ae-d55f3d08fbc9"
      },
      "source": [
        "city.describe().show()"
      ],
      "execution_count": null,
      "outputs": [
        {
          "output_type": "stream",
          "text": [
            "+-------+---------+\n",
            "|summary|PROVINCIA|\n",
            "+-------+---------+\n",
            "|  count|      110|\n",
            "|   mean|     null|\n",
            "| stddev|     null|\n",
            "|    min|Agrigento|\n",
            "|    max|  Viterbo|\n",
            "+-------+---------+\n",
            "\n"
          ],
          "name": "stdout"
        }
      ]
    },
    {
      "cell_type": "code",
      "metadata": {
        "colab": {
          "base_uri": "https://localhost:8080/"
        },
        "id": "sb0wBp3bHOhx",
        "outputId": "31e8efd3-0612-4ba6-8fe6-c97c04cbda49"
      },
      "source": [
        "\n",
        "spark.sql(\"select * from survey\").show(100)"
      ],
      "execution_count": null,
      "outputs": [
        {
          "output_type": "stream",
          "text": [
            "+--------------------+\n",
            "|           PROVINCIA|\n",
            "+--------------------+\n",
            "|         Alessandria|\n",
            "|                Asti|\n",
            "|              Biella|\n",
            "|               Cuneo|\n",
            "|              Novara|\n",
            "|              Torino|\n",
            "|Verbano-Cusio-Ossola|\n",
            "|            Vercelli|\n",
            "|Valle d'Aosta/Val...|\n",
            "|             Bergamo|\n",
            "|             Brescia|\n",
            "|                Como|\n",
            "|             Cremona|\n",
            "|               Lecco|\n",
            "|                Lodi|\n",
            "|             Mantova|\n",
            "|              Milano|\n",
            "|Monza e della Bri...|\n",
            "|               Pavia|\n",
            "|             Sondrio|\n",
            "|              Varese|\n",
            "|       Bolzano/Bozen|\n",
            "|              Trento|\n",
            "|             Belluno|\n",
            "|              Padova|\n",
            "|              Rovigo|\n",
            "|             Treviso|\n",
            "|             Venezia|\n",
            "|              Verona|\n",
            "|             Vicenza|\n",
            "|             Gorizia|\n",
            "|           Pordenone|\n",
            "|             Trieste|\n",
            "|               Udine|\n",
            "|              Genova|\n",
            "|             Imperia|\n",
            "|           La Spezia|\n",
            "|              Savona|\n",
            "|             Bologna|\n",
            "|             Ferrara|\n",
            "|        Forlì-Cesena|\n",
            "|              Modena|\n",
            "|               Parma|\n",
            "|            Piacenza|\n",
            "|             Ravenna|\n",
            "|  Reggio nell'Emilia|\n",
            "|              Rimini|\n",
            "|              Arezzo|\n",
            "|             Firenze|\n",
            "|            Grosseto|\n",
            "|             Livorno|\n",
            "|               Lucca|\n",
            "|       Massa-Carrara|\n",
            "|                Pisa|\n",
            "|             Pistoia|\n",
            "|               Prato|\n",
            "|               Siena|\n",
            "|             Perugia|\n",
            "|               Terni|\n",
            "|              Ancona|\n",
            "|       Ascoli Piceno|\n",
            "|               Fermo|\n",
            "|            Macerata|\n",
            "|     Pesaro e Urbino|\n",
            "|           Frosinone|\n",
            "|              Latina|\n",
            "|               Rieti|\n",
            "|                Roma|\n",
            "|             Viterbo|\n",
            "|              Chieti|\n",
            "|            L'Aquila|\n",
            "|             Pescara|\n",
            "|              Teramo|\n",
            "|          Campobasso|\n",
            "|             Isernia|\n",
            "|            Avellino|\n",
            "|           Benevento|\n",
            "|             Caserta|\n",
            "|              Napoli|\n",
            "|             Salerno|\n",
            "|                Bari|\n",
            "|Barletta-Andria-T...|\n",
            "|            Brindisi|\n",
            "|              Foggia|\n",
            "|               Lecce|\n",
            "|             Taranto|\n",
            "|              Matera|\n",
            "|             Potenza|\n",
            "|           Catanzaro|\n",
            "|             Cosenza|\n",
            "|             Crotone|\n",
            "|  Reggio di Calabria|\n",
            "|       Vibo Valentia|\n",
            "|           Agrigento|\n",
            "|       Caltanissetta|\n",
            "|             Catania|\n",
            "|                Enna|\n",
            "|             Messina|\n",
            "|             Palermo|\n",
            "|              Ragusa|\n",
            "+--------------------+\n",
            "only showing top 100 rows\n",
            "\n"
          ],
          "name": "stdout"
        }
      ]
    },
    {
      "cell_type": "code",
      "metadata": {
        "id": "2sQB_ZYgH36z"
      },
      "source": [
        "\n",
        "provinces = spark.read.load(\"/content/drive/MyDrive/BigData /Italian_provinces.geojson.zip\",\n",
        "                    format='json',\n",
        "                    multiline=True,\n",
        "                    inferSchema='true').cache()"
      ],
      "execution_count": null,
      "outputs": []
    },
    {
      "cell_type": "code",
      "metadata": {
        "colab": {
          "base_uri": "https://localhost:8080/"
        },
        "id": "5YkPrsH8fv-S",
        "outputId": "da0a77fc-751d-4790-a418-d1348a403b76"
      },
      "source": [
        "spark.sql(\"show tables\").show()"
      ],
      "execution_count": null,
      "outputs": [
        {
          "output_type": "stream",
          "text": [
            "+--------+---------+-----------+\n",
            "|database|tableName|isTemporary|\n",
            "+--------+---------+-----------+\n",
            "|        |   survey|       true|\n",
            "+--------+---------+-----------+\n",
            "\n"
          ],
          "name": "stdout"
        }
      ]
    },
    {
      "cell_type": "code",
      "metadata": {
        "id": "p_tTupJZhUmj"
      },
      "source": [
        "network = spark.read.load(\"/content/drive/MyDrive/BigData /sms-call-internet-mi-2013-11-01.csv\",\n",
        "                    format='csv',\n",
        "                    sep = ',',\n",
        "                    header='true',\n",
        "                    inferSchema='true').cache()"
      ],
      "execution_count": null,
      "outputs": []
    },
    {
      "cell_type": "code",
      "metadata": {
        "colab": {
          "base_uri": "https://localhost:8080/"
        },
        "id": "A8nk5UxFhzLk",
        "outputId": "abec6c4f-1d35-43b6-b04c-533ffcc38153"
      },
      "source": [
        "network.show(5)"
      ],
      "execution_count": null,
      "outputs": [
        {
          "output_type": "stream",
          "text": [
            "+-------------------+------+-----------+------+------+------+-------+--------+\n",
            "|           datetime|CellID|countrycode| smsin|smsout|callin|callout|internet|\n",
            "+-------------------+------+-----------+------+------+------+-------+--------+\n",
            "|2013-11-01 00:00:00|     1|          0|0.3521|  null|  null| 0.0273|    null|\n",
            "|2013-11-01 00:00:00|     1|         33|  null|  null|  null|   null|  0.0261|\n",
            "|2013-11-01 00:00:00|     1|         39|1.7322|1.1047|0.5919|  0.402| 57.7729|\n",
            "|2013-11-01 00:00:00|     2|          0|0.3581|  null|  null| 0.0273|    null|\n",
            "|2013-11-01 00:00:00|     2|         33|  null|  null|  null|   null|  0.0274|\n",
            "+-------------------+------+-----------+------+------+------+-------+--------+\n",
            "only showing top 5 rows\n",
            "\n"
          ],
          "name": "stdout"
        }
      ]
    },
    {
      "cell_type": "code",
      "metadata": {
        "colab": {
          "base_uri": "https://localhost:8080/"
        },
        "id": "OIFESOswh6zY",
        "outputId": "8a5e0550-8541-4b49-da6e-5b65b7ccf167"
      },
      "source": [
        "network.show(5)"
      ],
      "execution_count": null,
      "outputs": [
        {
          "output_type": "stream",
          "text": [
            "+-------------------+------+-----------+------+------+------+-------+--------+\n",
            "|           datetime|CellID|countrycode| smsin|smsout|callin|callout|internet|\n",
            "+-------------------+------+-----------+------+------+------+-------+--------+\n",
            "|2013-11-01 00:00:00|     1|          0|0.3521|  null|  null| 0.0273|    null|\n",
            "|2013-11-01 00:00:00|     1|         33|  null|  null|  null|   null|  0.0261|\n",
            "|2013-11-01 00:00:00|     1|         39|1.7322|1.1047|0.5919|  0.402| 57.7729|\n",
            "|2013-11-01 00:00:00|     2|          0|0.3581|  null|  null| 0.0273|    null|\n",
            "|2013-11-01 00:00:00|     2|         33|  null|  null|  null|   null|  0.0274|\n",
            "+-------------------+------+-----------+------+------+------+-------+--------+\n",
            "only showing top 5 rows\n",
            "\n"
          ],
          "name": "stdout"
        }
      ]
    },
    {
      "cell_type": "code",
      "metadata": {
        "id": "lXUrWwdhiGjM"
      },
      "source": [
        "network.createOrReplaceTempView(\"network\")\n"
      ],
      "execution_count": null,
      "outputs": []
    },
    {
      "cell_type": "code",
      "metadata": {
        "colab": {
          "base_uri": "https://localhost:8080/"
        },
        "id": "Yr-K4sq9iJU-",
        "outputId": "a0ebd85c-22b9-4943-95f2-53bc13c25b98"
      },
      "source": [
        "spark.sql(\"show tables\").show()\n"
      ],
      "execution_count": null,
      "outputs": [
        {
          "output_type": "stream",
          "text": [
            "+--------+---------+-----------+\n",
            "|database|tableName|isTemporary|\n",
            "+--------+---------+-----------+\n",
            "|        |  network|       true|\n",
            "|        |   survey|       true|\n",
            "+--------+---------+-----------+\n",
            "\n"
          ],
          "name": "stdout"
        }
      ]
    },
    {
      "cell_type": "code",
      "metadata": {
        "id": "EI1oW6rRiNk5"
      },
      "source": [
        "aggcountryDF = spark.sql(\"\"\"select \n",
        "                                CASE countrycode\n",
        "                                    WHEN 7 THEN \"Russia\"\n",
        "                                    WHEN 33 THEN \"France\"\n",
        "                                    WHEN 34 THEN \"Spain\"\n",
        "                                    WHEN 39 THEN \"Italy\"\n",
        "                                    WHEN 44 THEN \"United Kingdom\"\n",
        "                                    WHEN 47 THEN \"Norway\"\n",
        "                                    WHEN 48 THEN \"Poland\"\n",
        "                                    WHEN 49 THEN \"Germany\"\n",
        "                                    WHEN 351 THEN \"Portugal\"\n",
        "                                    WHEN 420 THEN \"Czech Republic\"\n",
        "                                    ELSE \"_Others_\"\n",
        "                                END as country,\n",
        "                                round(sum(smsin),6) smsin, \n",
        "                                round(sum(smsout),6) smsout, \n",
        "                                round(sum(callin),6) callin, \n",
        "                                round(sum(callout),6) callout, \n",
        "                                round(sum(internet),6) internet\n",
        "                            from network\n",
        "                            where countrycode != 0\n",
        "                            group by country\n",
        "                            order by 1 \"\"\")"
      ],
      "execution_count": null,
      "outputs": []
    },
    {
      "cell_type": "code",
      "metadata": {
        "colab": {
          "base_uri": "https://localhost:8080/"
        },
        "id": "_-C_1ItqiQj2",
        "outputId": "3ef70a28-2862-42b7-9d2f-f8c18c7ac263"
      },
      "source": [
        "aggcountryDF.show()\n"
      ],
      "execution_count": null,
      "outputs": [
        {
          "output_type": "stream",
          "text": [
            "+--------------+------------+------------+------------+------------+-----------------+\n",
            "|       country|       smsin|      smsout|      callin|     callout|         internet|\n",
            "+--------------+------------+------------+------------+------------+-----------------+\n",
            "|Czech Republic|   2608.1169|   1437.8024|    733.0263|    544.2075|        5488.8842|\n",
            "|        France|  20495.0177|  13158.3234|    4527.906|   2984.4441|       36769.9342|\n",
            "|       Germany|   9549.2932|   2747.5518|   1960.2404|   1396.1923|       23737.9411|\n",
            "|         Italy|2889250.3153|2688729.4971|2560497.8263|2962224.2957|8.2245208645798E7|\n",
            "|        Norway|    745.8405|    535.5974|    190.2444|    149.5543|         1913.018|\n",
            "|        Poland|   3821.9876|   1852.1156|   1176.1172|    861.9467|        3879.9327|\n",
            "|      Portugal|    616.0036|    358.1073|    288.9737|    128.8219|         459.4812|\n",
            "|        Russia|   8983.6104|   6108.6568|   4682.9862|    1710.748|        5509.7652|\n",
            "|         Spain|   2301.3214|   1428.7563|   2178.4545|   1665.4606|       11389.0908|\n",
            "|United Kingdom|  11509.6936|   11603.978|   3756.9092|   2954.2486|       23588.0875|\n",
            "|      _Others_|  93858.1746|  39013.8466|  37058.4407|  146847.885|      121281.0734|\n",
            "+--------------+------------+------------+------------+------------+-----------------+\n",
            "\n"
          ],
          "name": "stdout"
        }
      ]
    },
    {
      "cell_type": "code",
      "metadata": {
        "id": "DGxAyKS0k3JW"
      },
      "source": [
        "import matplotlib.pyplot as plt\n",
        "import numpy as np"
      ],
      "execution_count": null,
      "outputs": []
    },
    {
      "cell_type": "code",
      "metadata": {
        "colab": {
          "base_uri": "https://localhost:8080/"
        },
        "id": "cu54ewGhlJXW",
        "outputId": "c9ef7c2b-3f97-412f-8093-27bfd148dee2"
      },
      "source": [
        "plotdf = aggcountryDF.where(\"country not in ('Italy','_Others_')\").toPandas()\n",
        "print(plotdf)"
      ],
      "execution_count": null,
      "outputs": [
        {
          "output_type": "stream",
          "text": [
            "          country       smsin      smsout     callin    callout    internet\n",
            "0  Czech Republic   2608.1169   1437.8024   733.0263   544.2075   5488.8842\n",
            "1          France  20495.0177  13158.3234  4527.9060  2984.4441  36769.9342\n",
            "2         Germany   9549.2932   2747.5518  1960.2404  1396.1923  23737.9411\n",
            "3          Norway    745.8405    535.5974   190.2444   149.5543   1913.0180\n",
            "4          Poland   3821.9876   1852.1156  1176.1172   861.9467   3879.9327\n",
            "5        Portugal    616.0036    358.1073   288.9737   128.8219    459.4812\n",
            "6          Russia   8983.6104   6108.6568  4682.9862  1710.7480   5509.7652\n",
            "7           Spain   2301.3214   1428.7563  2178.4545  1665.4606  11389.0908\n",
            "8  United Kingdom  11509.6936  11603.9780  3756.9092  2954.2486  23588.0875\n"
          ],
          "name": "stdout"
        }
      ]
    },
    {
      "cell_type": "code",
      "metadata": {
        "colab": {
          "base_uri": "https://localhost:8080/",
          "height": 778
        },
        "id": "vcc51mlAloup",
        "outputId": "3edf3e47-5d80-45f6-8ec9-f6920c921a39"
      },
      "source": [
        "plotdf.plot(kind='barh', x='country', y=['smsin', 'smsout'], colormap='tab20b')\n",
        "plotdf.plot(kind='barh', x='country', y=['callin', 'callout'], colormap='tab10')\n",
        "plotdf.plot(kind='barh', x='country', y=['internet'], colormap='summer')"
      ],
      "execution_count": null,
      "outputs": [
        {
          "output_type": "execute_result",
          "data": {
            "text/plain": [
              "<matplotlib.axes._subplots.AxesSubplot at 0x7f57314c8050>"
            ]
          },
          "metadata": {
            "tags": []
          },
          "execution_count": 25
        },
        {
          "output_type": "display_data",
          "data": {
            "image/png": "[encoded data removed]",
            "text/plain": [
              "<Figure size 432x288 with 1 Axes>"
            ]
          },
          "metadata": {
            "tags": []
          }
        },
        {
          "output_type": "display_data",
          "data": {
            "image/png": "[encoded data removed]",
            "text/plain": [
              "<Figure size 432x288 with 1 Axes>"
            ]
          },
          "metadata": {
            "tags": []
          }
        },
        {
          "output_type": "display_data",
          "data": {
            "image/png": "[encoded data removed]",
            "text/plain": [
              "<Figure size 432x288 with 1 Axes>"
            ]
          },
          "metadata": {
            "tags": []
          }
        }
      ]
    },
    {
      "cell_type": "code",
      "metadata": {
        "id": "X3_eIc9Drap_"
      },
      "source": [
        "import pandas as pd\n",
        "import numpy as np\n",
        "import matplotlib.pyplot as plt\n",
        "import seaborn as sns\n",
        "from math import sqrt\n",
        "import datetime\n"
      ],
      "execution_count": null,
      "outputs": []
    },
    {
      "cell_type": "code",
      "metadata": {
        "colab": {
          "background_save": true
        },
        "id": "M-GidX2mMmNh"
      },
      "source": [
        "\n",
        "parse = lambda x: datetime.datetime.fromtimestamp(1000)\n",
        "\n",
        "fig_width_pt = 345  # Get this from LaTeX using \\showthe\\columnwidth\n",
        "inches_per_pt = 1.0/72.27               # Convert pt to inches\n",
        "golden_mean = (sqrt(5)-1.0)/2.0         # Aesthetic ratio\n",
        "fig_width = fig_width_pt*inches_per_pt  # width in inches\n",
        "fig_height = fig_width*golden_mean       # height in inches\n",
        "fig_size = [fig_width, fig_height]\n",
        "\n",
        "sns.set_style(\"ticks\")\n",
        "sns.set_context(\"paper\")\n",
        "\n",
        "# Import dataset - Milano\n",
        "sliceSum = pd.DataFrame({})\n",
        "for index in range(4,7):\n",
        "    sliceSum2 = pd.read_csv('/content/drive/MyDrive/BigData /sms-call-internet-mi-2013-11-'+str(index).zfill(2) +'.csv', sep='\\t', encoding=\"utf-8-sig\", names=['CellID', 'datetime', 'countrycode', 'smsin', 'smsout', 'callin', 'callout', 'internet'], parse_dates=['datetime'], date_parser=parse)\n",
        "    sliceSum2 = sliceSum2.set_index('datetime')\n",
        "    sliceSum2['hour'] = sliceSum2.index.hour\n",
        "    sliceSum2['weekday'] = sliceSum2.index.weekday\n",
        "    sliceSum2 = sliceSum2.groupby(['hour', 'weekday', 'CellID'], as_index=False).sum()\n",
        "\n",
        "    sliceSum = sliceSum.append(sliceSum2)\n",
        "\n",
        "sliceSum['idx'] = sliceSum['hour'] + (sliceSum['weekday']*24)\n",
        "sliceSum.head()\n",
        "\n",
        "# Import dataset Tweets Milano\n",
        "#social_df = pd.read_csv('nature/result2.csv', sep=',', encoding=\"utf-8-sig\", parse_dates=['created'])\n",
        "#social_df = social_df.set_index(['created'], drop=False)\n",
        "#social_df = social_df.groupby([social_df.index.weekday, social_df.index.hour], as_index=False).count()\n",
        "#social_df['Tweets'] = social_df['created']\n",
        "#social_df = social_df[['Tweets']]\n",
        "#social_df.head()\n",
        "\n",
        "# Group by weekday-hour\n",
        "sliceSum_city = sliceSum.groupby(['weekday', 'hour'], as_index=False).sum()\n",
        "sliceSum_city['sms'] = sliceSum_city['smsin'] + sliceSum_city['smsout']\n",
        "sliceSum_city['calls'] = sliceSum_city['callin'] + sliceSum_city['callout']\n",
        "sliceSum_city.rename(columns={'sms': 'SMS', 'internet': 'Internet'}, inplace=True)\n",
        "\n",
        "# Behaviour plot\n",
        "types = ['SMS', 'calls', 'Internet']\n",
        "fig_size2 = [fig_width, fig_width*golden_mean*2 ]\n",
        "f, axs = plt.subplots(len(types), sharex=True, sharey=True,figsize=fig_size2)\n",
        "\n",
        "# Z-score\n",
        "#sliceSum_z = (sliceSum_city - sliceSum_city.mean()) / sliceSum_city.std()\n",
        "#social_df = (social_df - social_df.mean()) / social_df.std()\n",
        "\n",
        "for i, p in enumerate(types):\n",
        "    plt.xticks(np.arange(168, step=10))\n",
        "    if p == 'Tweets':\n",
        "        axs[i].plot(social_df[p], label=p)\n",
        "    else:\n",
        "        axs[i].plot(sliceSum_z[p], label=p)\n",
        "    axs[i].legend(loc='upper center')\n",
        "    sns.despine()\n",
        "\n",
        "f.text(0, 0.5, \"Number of events\", rotation=\"vertical\", va=\"center\")\n",
        "\n",
        "plt.xlabel(\"Hour (in a week)\")\n",
        "plt.savefig('behaviour.pdf', format='pdf', dpi=330,bbox_inches='tight')\n",
        "\n",
        "# Import dataset Telecommunications - Trentino\n",
        "sliceSum3 = pd.DataFrame({})\n",
        "for index in range(4, 7):\n",
        "    sliceSum2 = pd.read_csv('/content/drive/MyDrive/BigData /sms-call-internet-mi-2013-11-'+str(index).zfill(2) +'.csv', sep='\\t', encoding=\"utf-8-sig\", names=['CellID', 'datetime', 'countrycode', 'smsin', 'smsout', 'callin', 'callout', 'internet'], parse_dates=['datetime'], date_parser=parse)\n",
        "    sliceSum2 = sliceSum2.set_index('datetime')\n",
        "    sliceSum2['hour'] = sliceSum2.index.hour\n",
        "    sliceSum2['weekday'] = sliceSum2.index.weekday\n",
        "    sliceSum2 = sliceSum2.groupby(['hour', 'weekday', 'CellID'], as_index=False).sum()\n",
        "\n",
        "    sliceSum3 = sliceSum3.append(sliceSum2)\n",
        "\n",
        "sliceSum3['idx'] = sliceSum3['hour'] + (sliceSum3['weekday']*24)\n",
        "sliceSum3.head()\n",
        "\n",
        "# Validation behavioural plots\n",
        "fig_size2 = [fig_width,fig_width*golden_mean*1.5 ]\n",
        "fig = plt.figure(figsize=fig_size2)\n",
        "\n",
        "f, axs = plt.subplots(2, sharex=True, sharey=False, figsize=fig_size2)\n",
        "\n",
        "axs[0].plot(sliceSum[sliceSum.CellID == 5060].set_index('idx')['internet'], label='Duomo')\n",
        "axs[0].plot(sliceSum[sliceSum.CellID == 4259].set_index('idx')['internet'], label='Bocconi')\n",
        "axs[0].plot(sliceSum[sliceSum.CellID == 4456].set_index('idx')['internet'], label='Navigli')\n",
        "axs[0].set_xticklabels([])\n",
        "sns.despine()\n",
        "# Shrink current axis's height by 10% on the bottom\n",
        "box = axs[0].get_position()\n",
        "axs[0].set_position([box.x0, box.y0 + box.height * 0.1, box.width, box.height * 0.9])\n",
        "axs[0].legend(loc='upper center', bbox_to_anchor=(0.5, -0.10), fancybox=True, shadow=True, ncol=5)\n",
        "axs[1].plot(sliceSum3[sliceSum3.CellID == 5200].set_index('idx')['internet'], label='Duomo')\n",
        "axs[1].plot(sliceSum3[sliceSum3.CellID == 5085].set_index('idx')['internet'], label='Mesiano')\n",
        "axs[1].plot(sliceSum3[sliceSum3.CellID == 4703].set_index('idx')['internet'], label='Bosco')\n",
        "# Shrink current axis's height by 10% on the bottom\n",
        "box = axs[1].get_position()\n",
        "axs[1].set_position([box.x0, box.y0 + box.height * 0.1, box.width, box.height * 0.9])\n",
        "axs[1].legend(loc='upper center', bbox_to_anchor=(0.5, -0.30), fancybox=True, shadow=True, ncol=5)\n",
        "axs[1].set_xlabel(\"Weekly hour\")\n",
        "sns.despine()\n",
        "\n",
        "f.text(0, 0.5, \"Absolute number of connections\", rotation=\"vertical\", va=\"center\")\n",
        "plt.savefig('validation-Milano.pdf', format='pdf', dpi=330, bbox_inches='tight')\n",
        "\n",
        "# Boxplots\n",
        "boxplots = {\n",
        "    'calls': \"Calls\",\n",
        "    'sms': \"SMS\",\n",
        "    \"internet\": \"Internet CDRs\"\n",
        "}\n",
        "fig_size2 = [fig_width, fig_width*golden_mean*2]\n",
        "f, axs = plt.subplots(len(boxplots.keys()), sharex=True, sharey=False, figsize=fig_size2)\n",
        "f.subplots_adjust(hspace=.35,wspace=0.1)\n",
        "sliceSum['sms'] = sliceSum['smsin'] + sliceSum['smsout']\n",
        "sliceSum['calls'] = sliceSum['callin'] + sliceSum['callout']\n",
        "i = 0\n",
        "plt.suptitle(\"\")\n",
        "\n",
        "for k, v in boxplots.iteritems():\n",
        "\n",
        "    ax = sliceSum.reset_index().boxplot(column=k, by='weekday', grid=False, sym='', ax =axs[i])\n",
        "    axs[i].set_title(v)\n",
        "    axs[i].set_xlabel(\"\")\n",
        "    sns.despine()\n",
        "    i += 1\n",
        "\n",
        "plt.xlabel(\"Weekday (0=Monday, 6=Sunday)\")\n",
        "f.text(0, 0.5, \"Number of events\", rotation=\"vertical\", va=\"center\")\n",
        "plt.savefig('boxplots-Milano.pdf', format='pdf', dpi=330,bbox_inches='tight')\n",
        "\n"
      ],
      "execution_count": null,
      "outputs": []
    }
  ]
}