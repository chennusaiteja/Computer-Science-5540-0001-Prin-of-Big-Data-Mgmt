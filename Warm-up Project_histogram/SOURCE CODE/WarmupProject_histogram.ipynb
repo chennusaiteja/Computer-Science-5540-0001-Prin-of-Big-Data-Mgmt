{
  "nbformat": 4,
  "nbformat_minor": 0,
  "metadata": {
    "colab": {
      "name": "WarmupProject_histogram.ipynb",
      "provenance": [],
      "collapsed_sections": [],
      "toc_visible": true
    },
    "kernelspec": {
      "display_name": "Python 3",
      "language": "python",
      "name": "python3"
    },
    "language_info": {
      "codemirror_mode": {
        "name": "ipython",
        "version": 3
      },
      "file_extension": ".py",
      "mimetype": "text/x-python",
      "name": "python",
      "nbconvert_exporter": "python",
      "pygments_lexer": "ipython3",
      "version": "3.7.7"
    }
  },
  "cells": [
    {
      "cell_type": "markdown",
      "metadata": {
        "id": "PpoElzsaZYum"
      },
      "source": [
        "Importing pandas, ntlk(for stopwords)\n",
        "\n",
        "Downloaded stopwords using nltk library"
      ]
    },
    {
      "cell_type": "code",
      "metadata": {
        "colab": {
          "base_uri": "https://localhost:8080/"
        },
        "id": "cEh8VxB08y4U",
        "outputId": "d31af2ba-3bac-4e44-912b-0a236f04303d"
      },
      "source": [
        "import pandas as pd\n",
        "import re\n",
        "import pandas as pd\n",
        "import csv\n",
        "# !pip install nltk\n",
        "import nltk\n",
        "nltk.download('stopwords')\n"
      ],
      "execution_count": 45,
      "outputs": [
        {
          "output_type": "stream",
          "text": [
            "[nltk_data] Downloading package stopwords to /root/nltk_data...\n",
            "[nltk_data]   Package stopwords is already up-to-date!\n"
          ],
          "name": "stdout"
        },
        {
          "output_type": "execute_result",
          "data": {
            "text/plain": [
              "True"
            ]
          },
          "metadata": {
            "tags": []
          },
          "execution_count": 45
        }
      ]
    },
    {
      "cell_type": "markdown",
      "metadata": {
        "id": "ROwLQdhokKEE"
      },
      "source": [
        "Mounting Google Drive \n",
        "\n"
      ]
    },
    {
      "cell_type": "code",
      "metadata": {
        "colab": {
          "base_uri": "https://localhost:8080/"
        },
        "id": "_bzCq2snRm0p",
        "outputId": "f54db5ee-91b1-4672-bb08-8e6e6435b34a"
      },
      "source": [
        "from google.colab import drive\n",
        "drive.mount('/content/drive')"
      ],
      "execution_count": 44,
      "outputs": [
        {
          "output_type": "stream",
          "text": [
            "Drive already mounted at /content/drive; to attempt to forcibly remount, call drive.mount(\"/content/drive\", force_remount=True).\n"
          ],
          "name": "stdout"
        }
      ]
    },
    {
      "cell_type": "markdown",
      "metadata": {
        "id": "AASHUm3lZzeN"
      },
      "source": [
        "Reading the text file(nytimes_news_articles.txt) which is located in google drive path(/content/drive/MyDrive/Warm-up Project_Prin of Big Data Mgmt/nytimes_news_articles.txt)"
      ]
    },
    {
      "cell_type": "code",
      "metadata": {
        "id": "hUGOZ3d8Apgc"
      },
      "source": [
        "csvfile = open(\"/content/drive/MyDrive/Warm-up Project_Prin of Big Data Mgmt/nytimes_news_articles.txt\")\n",
        "reader = csv.reader(csvfile, quoting=csv.QUOTE_NONE)\n",
        "new_list=[]\n",
        "count = 0\n",
        "first_url = 0\n",
        "current_doc=\"\"\n",
        "old_url =\"\"\n",
        "for lines_list in reader:\n",
        "    for line in lines_list:\n",
        "      if \"URL: http://www.nytimes.com\" in line:\n",
        "        if first_url != 0 and '/us/politics/' not in old_url:  \n",
        "          new_list.append(current_doc)\n",
        "          current_doc = \"\"\n",
        "        else:\n",
        "          current_doc=\"\"\n",
        "        old_url = line\n",
        "      elif line.strip():\n",
        "        first_url = 1\n",
        "        current_doc = current_doc + line"
      ],
      "execution_count": 52,
      "outputs": []
    },
    {
      "cell_type": "code",
      "metadata": {
        "colab": {
          "base_uri": "https://localhost:8080/",
          "height": 154
        },
        "id": "4RKyd5Aip4SS",
        "outputId": "95fdfeb7-0260-4557-9ba1-9f5d7ec434ec"
      },
      "source": [
        "current_doc"
      ],
      "execution_count": 48,
      "outputs": [
        {
          "output_type": "execute_result",
          "data": {
            "application/vnd.google.colaboratory.intrinsic+json": {
              "type": "string"
            },
            "text/plain": [
              "'PALOS VERDES ESTATES Calif. — From high atop the oceanside cliffs the shimmering blue-green water of Lunada Bay appears to be a surfer’s dream.But by the time surfers put on their wet suits some may be having second thoughts. There are the taunts and the peltings of dirt and rocks they may face as they climb down the hill.And if they make it into the water they risk confrontation with a band of residents known widely as the Bay Boys who have long been accused of zealously — and sometimes violently — claiming the epic waves here as their exclusive territory.“The last time I surfed out there these guys tried to really hurt me” said Chris Taloa 42 who for years lived in nearby Redondo Beach. “A guy tried to ram a board into my ribs.”But after intimidation that has kept outsiders like Mr. Taloa away for generations a group of surfers is fighting to open up the beach to all comers. A class-action lawsuit filed last month by the Coastal Protection Rangers and two surfers seeks to bar the Bay Boys from congregating at Lunada Bay — similar to the way injunctions have been used against members of criminal street gangs.The alleged members hail from one of the most exclusive communities in Southern California; many of them are middle-aged; some live in multimillion-dollar homes so close to the coastline here that the morning fog rolling off the ocean leaves their lawns damp.Still Vic Otten one of the lawyers for those bringing the lawsuit said the group represented a threat to the public. Only eight members have been named in the lawsuit so far but he said he expected to add dozens more.“They’ve taken a public asset the ocean and stolen it through violence and intimidation” he said. “In California the ocean belongs to the public not to a bunch of trust-fund babies.”Outside his auto shop where surfboards were leaning against the wall Angelo Ferrara who along with several of his family members was named in the lawsuit said that his family was not part of any gang and that the territorialism here was no worse than anywhere else.“Surfing is overcrowded” Mr. Ferrara 58 said. “You have beginners intermediate and advanced. And they don’t get along.”Frank Ponce a Palos Verdes resident and surfer scoffed at the idea of an organized gang saying the problem was merely “a couple bad apples” and visitors who were not experienced enough to surf a wave as powerful as those at Lunada Bay.“You get all these people from out of town who think they’re big-wave surfers and then they cut people off” Mr. Ponce said. “Of course they’re going to get yelled at — they’re endangering lives.”Surfing “localism” with a hierarchy in the water based on skill and seniority is hardly exclusive to this beach: It can be found at choice breaks from here to Australia. And many surfers see its benefits especially in spots with big waves that are dangerous for beginners.As surfing’s popularity has exploded in recent years localism has faded as more people have charged the waves.But not at Lunada Bay which offers not only some of the most powerful waves in Southern California but also an easily defensible location. At the edge of the Palos Verdes Peninsula south of Los Angeles it is a long drive from most population centers; the steep path down from the cliffs to the ocean is treacherous even when nothing is being thrown at you; and the police department in this town — where the median family income is more than $170000 and Porsches are a common sight — has long been accused of tacitly supporting the Bay Boys’ local-only ethos as a strategy for keeping away crowds.Mr. Taloa grew up surfing on the north shore of Oahu in Hawaii an area famous for its huge waves — and for locals who will use their fists to enforce their hierarchy in the water. But Mr. Taloa said he had never faced anything like what goes on in Lunada Bay where the harassment began before he even reached the water.“In most places if you come out in the lineup wait your turn give respect they’ll give you a chance but these guys don’t even do that” he said. In Lunada he said “I’ve been threatened with jail and rape racial language.”Diana Milena Reed an aspiring big-wave surfer who lives in Malibu said she was sexually harassed in February while watching a friend surf from a stone patio that local surfers constructed decades ago on the nearby rocks — without approval from the state. She said a middle-aged man sprayed beer on her made an array of sexual comments and briefly exposed himself all while several others looked on.“There aren’t usually a lot of women out there” Ms. Reed 29 said. “That’s intimidating enough without having men harass you.”Ms. Reed is a plaintiff in the lawsuit which also seeks to compel the city to crack down. Past pledges to stamp out the group were quickly abandoned. Little changed here after a brawl on the beach in 1995 surfers said. And in 2002 when the police chief installed a camera to record Lunada Bay full time the City Council soon ordered it removed after residents complained that it would draw untold masses to the area after they got a peek at Palos Verdes’s natural splendor.“Palos Verdes would like nothing better than to have gates at either end of the peninsula and not let any of us up there” said Matt Warshaw who edits the Encyclopedia of Surfing website. Even growing up in nearby Manhattan Beach in the 1970s he said he knew that going to Palos Verdes would mean trouble.After the release of an undercover video last summer — which was produced by The Guardian and showed middle-aged men harassing would-be surfers and the police doing little in response to a complaint — the police chief Jeff Kepley vowed to end localism.In a brief telephone interview Chief Kepley said he could not discuss the issue because of the lawsuit but added: “We’ve done a lot. All anyone says is that we don’t do anything.”Still reports of harassment have continued. And most outsiders continue to stay away. On a recent day with a big swell only three men were in the water at Lunada Bay catching wave after majestic wave. A few others watched from the stone porch where beer snacks and surf equipment were stashed.“Nobody goes there because the reputation is so well known throughout the surf world” said Steve Hawk a Southern California native and the former editor of Surfer Magazine. “They’ve kind of succeeded.”'"
            ]
          },
          "metadata": {
            "tags": []
          },
          "execution_count": 48
        }
      ]
    },
    {
      "cell_type": "markdown",
      "metadata": {
        "id": "B8K5_xpQaNcd"
      },
      "source": [
        "Creating a list of data in column called doc_data"
      ]
    },
    {
      "cell_type": "code",
      "metadata": {
        "id": "VycFK99jC1TN"
      },
      "source": [
        "df_op = pd.DataFrame(new_list, columns=['doc_data'])"
      ],
      "execution_count": 53,
      "outputs": []
    },
    {
      "cell_type": "markdown",
      "metadata": {
        "id": "Src9lXrUnU58"
      },
      "source": [
        "Storing all downloaded stop words in the variable stop "
      ]
    },
    {
      "cell_type": "code",
      "metadata": {
        "id": "7DXcCsaFjrAk"
      },
      "source": [
        "import nltk\n",
        "from nltk.corpus import stopwords\n",
        "stop = stopwords.words('english')"
      ],
      "execution_count": 54,
      "outputs": []
    },
    {
      "cell_type": "markdown",
      "metadata": {
        "id": "ZyvoE7ZxbrEt"
      },
      "source": [
        "Displaying all the stop words"
      ]
    },
    {
      "cell_type": "code",
      "metadata": {
        "colab": {
          "base_uri": "https://localhost:8080/"
        },
        "id": "2dhYxSojbnlT",
        "outputId": "546659f7-4330-439f-ca3a-7b8ea7097374"
      },
      "source": [
        "stop"
      ],
      "execution_count": 55,
      "outputs": [
        {
          "output_type": "execute_result",
          "data": {
            "text/plain": [
              "['i',\n",
              " 'me',\n",
              " 'my',\n",
              " 'myself',\n",
              " 'we',\n",
              " 'our',\n",
              " 'ours',\n",
              " 'ourselves',\n",
              " 'you',\n",
              " \"you're\",\n",
              " \"you've\",\n",
              " \"you'll\",\n",
              " \"you'd\",\n",
              " 'your',\n",
              " 'yours',\n",
              " 'yourself',\n",
              " 'yourselves',\n",
              " 'he',\n",
              " 'him',\n",
              " 'his',\n",
              " 'himself',\n",
              " 'she',\n",
              " \"she's\",\n",
              " 'her',\n",
              " 'hers',\n",
              " 'herself',\n",
              " 'it',\n",
              " \"it's\",\n",
              " 'its',\n",
              " 'itself',\n",
              " 'they',\n",
              " 'them',\n",
              " 'their',\n",
              " 'theirs',\n",
              " 'themselves',\n",
              " 'what',\n",
              " 'which',\n",
              " 'who',\n",
              " 'whom',\n",
              " 'this',\n",
              " 'that',\n",
              " \"that'll\",\n",
              " 'these',\n",
              " 'those',\n",
              " 'am',\n",
              " 'is',\n",
              " 'are',\n",
              " 'was',\n",
              " 'were',\n",
              " 'be',\n",
              " 'been',\n",
              " 'being',\n",
              " 'have',\n",
              " 'has',\n",
              " 'had',\n",
              " 'having',\n",
              " 'do',\n",
              " 'does',\n",
              " 'did',\n",
              " 'doing',\n",
              " 'a',\n",
              " 'an',\n",
              " 'the',\n",
              " 'and',\n",
              " 'but',\n",
              " 'if',\n",
              " 'or',\n",
              " 'because',\n",
              " 'as',\n",
              " 'until',\n",
              " 'while',\n",
              " 'of',\n",
              " 'at',\n",
              " 'by',\n",
              " 'for',\n",
              " 'with',\n",
              " 'about',\n",
              " 'against',\n",
              " 'between',\n",
              " 'into',\n",
              " 'through',\n",
              " 'during',\n",
              " 'before',\n",
              " 'after',\n",
              " 'above',\n",
              " 'below',\n",
              " 'to',\n",
              " 'from',\n",
              " 'up',\n",
              " 'down',\n",
              " 'in',\n",
              " 'out',\n",
              " 'on',\n",
              " 'off',\n",
              " 'over',\n",
              " 'under',\n",
              " 'again',\n",
              " 'further',\n",
              " 'then',\n",
              " 'once',\n",
              " 'here',\n",
              " 'there',\n",
              " 'when',\n",
              " 'where',\n",
              " 'why',\n",
              " 'how',\n",
              " 'all',\n",
              " 'any',\n",
              " 'both',\n",
              " 'each',\n",
              " 'few',\n",
              " 'more',\n",
              " 'most',\n",
              " 'other',\n",
              " 'some',\n",
              " 'such',\n",
              " 'no',\n",
              " 'nor',\n",
              " 'not',\n",
              " 'only',\n",
              " 'own',\n",
              " 'same',\n",
              " 'so',\n",
              " 'than',\n",
              " 'too',\n",
              " 'very',\n",
              " 's',\n",
              " 't',\n",
              " 'can',\n",
              " 'will',\n",
              " 'just',\n",
              " 'don',\n",
              " \"don't\",\n",
              " 'should',\n",
              " \"should've\",\n",
              " 'now',\n",
              " 'd',\n",
              " 'll',\n",
              " 'm',\n",
              " 'o',\n",
              " 're',\n",
              " 've',\n",
              " 'y',\n",
              " 'ain',\n",
              " 'aren',\n",
              " \"aren't\",\n",
              " 'couldn',\n",
              " \"couldn't\",\n",
              " 'didn',\n",
              " \"didn't\",\n",
              " 'doesn',\n",
              " \"doesn't\",\n",
              " 'hadn',\n",
              " \"hadn't\",\n",
              " 'hasn',\n",
              " \"hasn't\",\n",
              " 'haven',\n",
              " \"haven't\",\n",
              " 'isn',\n",
              " \"isn't\",\n",
              " 'ma',\n",
              " 'mightn',\n",
              " \"mightn't\",\n",
              " 'mustn',\n",
              " \"mustn't\",\n",
              " 'needn',\n",
              " \"needn't\",\n",
              " 'shan',\n",
              " \"shan't\",\n",
              " 'shouldn',\n",
              " \"shouldn't\",\n",
              " 'wasn',\n",
              " \"wasn't\",\n",
              " 'weren',\n",
              " \"weren't\",\n",
              " 'won',\n",
              " \"won't\",\n",
              " 'wouldn',\n",
              " \"wouldn't\"]"
            ]
          },
          "metadata": {
            "tags": []
          },
          "execution_count": 55
        }
      ]
    },
    {
      "cell_type": "markdown",
      "metadata": {
        "id": "GqwbNoI8aqjH"
      },
      "source": [
        "Removing stopwords from the list of data in the text file"
      ]
    },
    {
      "cell_type": "code",
      "metadata": {
        "id": "BtOSviJEEK83"
      },
      "source": [
        "df_op['without_stop_words'] = df_op['doc_data'].apply(lambda x: [item for item in x.split() if item not in stop])"
      ],
      "execution_count": 60,
      "outputs": []
    },
    {
      "cell_type": "code",
      "metadata": {
        "id": "yAwiStgKF2EJ"
      },
      "source": [
        "df_op['count'] = df_op['without_stop_words'].apply(lambda x: len(x))"
      ],
      "execution_count": 61,
      "outputs": []
    },
    {
      "cell_type": "markdown",
      "metadata": {
        "id": "wV40U8Huazbw"
      },
      "source": [
        "Displaying the first five rows with out stop words and the word count"
      ]
    },
    {
      "cell_type": "code",
      "metadata": {
        "colab": {
          "base_uri": "https://localhost:8080/",
          "height": 195
        },
        "id": "eU8BfDUPFJCf",
        "outputId": "9f42de95-d68f-41d7-c103-dfc1cecb1787"
      },
      "source": [
        "df_op.head(5)"
      ],
      "execution_count": 62,
      "outputs": [
        {
          "output_type": "execute_result",
          "data": {
            "text/html": [
              "<div>\n",
              "<style scoped>\n",
              "    .dataframe tbody tr th:only-of-type {\n",
              "        vertical-align: middle;\n",
              "    }\n",
              "\n",
              "    .dataframe tbody tr th {\n",
              "        vertical-align: top;\n",
              "    }\n",
              "\n",
              "    .dataframe thead th {\n",
              "        text-align: right;\n",
              "    }\n",
              "</style>\n",
              "<table border=\"1\" class=\"dataframe\">\n",
              "  <thead>\n",
              "    <tr style=\"text-align: right;\">\n",
              "      <th></th>\n",
              "      <th>doc_data</th>\n",
              "      <th>without_stop_words</th>\n",
              "      <th>count</th>\n",
              "    </tr>\n",
              "  </thead>\n",
              "  <tbody>\n",
              "    <tr>\n",
              "      <th>0</th>\n",
              "      <td>WASHINGTON — Stellar pitching kept the Mets af...</td>\n",
              "      <td>[WASHINGTON, —, Stellar, pitching, kept, Mets,...</td>\n",
              "      <td>469</td>\n",
              "    </tr>\n",
              "    <tr>\n",
              "      <th>1</th>\n",
              "      <td>Mayor Bill de Blasio’s counsel and chief legal...</td>\n",
              "      <td>[Mayor, Bill, de, Blasio’s, counsel, chief, le...</td>\n",
              "      <td>319</td>\n",
              "    </tr>\n",
              "    <tr>\n",
              "      <th>2</th>\n",
              "      <td>In the early morning hours of Labor Day last y...</td>\n",
              "      <td>[In, early, morning, hours, Labor, Day, last, ...</td>\n",
              "      <td>457</td>\n",
              "    </tr>\n",
              "    <tr>\n",
              "      <th>3</th>\n",
              "      <td>It was the Apple Store in New York City before...</td>\n",
              "      <td>[It, Apple, Store, New, York, City, thing, App...</td>\n",
              "      <td>417</td>\n",
              "    </tr>\n",
              "    <tr>\n",
              "      <th>4</th>\n",
              "      <td>OMAHA — The United States Olympic swimming tri...</td>\n",
              "      <td>[OMAHA, —, The, United, States, Olympic, swimm...</td>\n",
              "      <td>593</td>\n",
              "    </tr>\n",
              "  </tbody>\n",
              "</table>\n",
              "</div>"
            ],
            "text/plain": [
              "                                            doc_data  ... count\n",
              "0  WASHINGTON — Stellar pitching kept the Mets af...  ...   469\n",
              "1  Mayor Bill de Blasio’s counsel and chief legal...  ...   319\n",
              "2  In the early morning hours of Labor Day last y...  ...   457\n",
              "3  It was the Apple Store in New York City before...  ...   417\n",
              "4  OMAHA — The United States Olympic swimming tri...  ...   593\n",
              "\n",
              "[5 rows x 3 columns]"
            ]
          },
          "metadata": {
            "tags": []
          },
          "execution_count": 62
        }
      ]
    },
    {
      "cell_type": "markdown",
      "metadata": {
        "id": "WGhT12C4bQ6w"
      },
      "source": [
        "displaying the output of all articles data by removing stopwords"
      ]
    },
    {
      "cell_type": "code",
      "metadata": {
        "colab": {
          "base_uri": "https://localhost:8080/",
          "height": 402
        },
        "id": "65m8Aus3m4ts",
        "outputId": "fb98f229-e7d5-4764-c6e7-c14fbb47eaec"
      },
      "source": [
        "df_op"
      ],
      "execution_count": 56,
      "outputs": [
        {
          "output_type": "execute_result",
          "data": {
            "text/html": [
              "<div>\n",
              "<style scoped>\n",
              "    .dataframe tbody tr th:only-of-type {\n",
              "        vertical-align: middle;\n",
              "    }\n",
              "\n",
              "    .dataframe tbody tr th {\n",
              "        vertical-align: top;\n",
              "    }\n",
              "\n",
              "    .dataframe thead th {\n",
              "        text-align: right;\n",
              "    }\n",
              "</style>\n",
              "<table border=\"1\" class=\"dataframe\">\n",
              "  <thead>\n",
              "    <tr style=\"text-align: right;\">\n",
              "      <th></th>\n",
              "      <th>doc_data</th>\n",
              "    </tr>\n",
              "  </thead>\n",
              "  <tbody>\n",
              "    <tr>\n",
              "      <th>0</th>\n",
              "      <td>WASHINGTON — Stellar pitching kept the Mets af...</td>\n",
              "    </tr>\n",
              "    <tr>\n",
              "      <th>1</th>\n",
              "      <td>Mayor Bill de Blasio’s counsel and chief legal...</td>\n",
              "    </tr>\n",
              "    <tr>\n",
              "      <th>2</th>\n",
              "      <td>In the early morning hours of Labor Day last y...</td>\n",
              "    </tr>\n",
              "    <tr>\n",
              "      <th>3</th>\n",
              "      <td>It was the Apple Store in New York City before...</td>\n",
              "    </tr>\n",
              "    <tr>\n",
              "      <th>4</th>\n",
              "      <td>OMAHA — The United States Olympic swimming tri...</td>\n",
              "    </tr>\n",
              "    <tr>\n",
              "      <th>...</th>\n",
              "      <td>...</td>\n",
              "    </tr>\n",
              "    <tr>\n",
              "      <th>8274</th>\n",
              "      <td>QUITO Ecuador — The strongest earthquake to st...</td>\n",
              "    </tr>\n",
              "    <tr>\n",
              "      <th>8275</th>\n",
              "      <td>New York City officers shot and killed a 32-ye...</td>\n",
              "    </tr>\n",
              "    <tr>\n",
              "      <th>8276</th>\n",
              "      <td>On April 1 police officers from the 108th Prec...</td>\n",
              "    </tr>\n",
              "    <tr>\n",
              "      <th>8277</th>\n",
              "      <td>KHILAD India — The cattle camp on a dusty back...</td>\n",
              "    </tr>\n",
              "    <tr>\n",
              "      <th>8278</th>\n",
              "      <td>The director J.J. Abrams dropped a possible hi...</td>\n",
              "    </tr>\n",
              "  </tbody>\n",
              "</table>\n",
              "<p>8279 rows × 1 columns</p>\n",
              "</div>"
            ],
            "text/plain": [
              "                                               doc_data\n",
              "0     WASHINGTON — Stellar pitching kept the Mets af...\n",
              "1     Mayor Bill de Blasio’s counsel and chief legal...\n",
              "2     In the early morning hours of Labor Day last y...\n",
              "3     It was the Apple Store in New York City before...\n",
              "4     OMAHA — The United States Olympic swimming tri...\n",
              "...                                                 ...\n",
              "8274  QUITO Ecuador — The strongest earthquake to st...\n",
              "8275  New York City officers shot and killed a 32-ye...\n",
              "8276  On April 1 police officers from the 108th Prec...\n",
              "8277  KHILAD India — The cattle camp on a dusty back...\n",
              "8278  The director J.J. Abrams dropped a possible hi...\n",
              "\n",
              "[8279 rows x 1 columns]"
            ]
          },
          "metadata": {
            "tags": []
          },
          "execution_count": 56
        }
      ]
    },
    {
      "cell_type": "code",
      "metadata": {
        "id": "aXw5dFCOKIEO"
      },
      "source": [
        "#plotting the histogram"
      ],
      "execution_count": null,
      "outputs": []
    },
    {
      "cell_type": "code",
      "metadata": {
        "colab": {
          "base_uri": "https://localhost:8080/",
          "height": 295
        },
        "id": "hbjAE3Y8GvTb",
        "outputId": "0b942f0e-e3fe-433b-c484-2435b49340c3"
      },
      "source": [
        "hist= df_op.hist(column='count')\n",
        "for ax in hist.flatten():\n",
        "    ax.set_xlabel(\"articles\")\n",
        "    ax.set_ylabel(\"sizes\")\n",
        "    ax.set_title('Size of news articles')"
      ],
      "execution_count": 63,
      "outputs": [
        {
          "output_type": "display_data",
          "data": {
            "image/png": "[encoded data removed]",
            "text/plain": [
              "<Figure size 432x288 with 1 Axes>"
            ]
          },
          "metadata": {
            "tags": [],
            "needs_background": "light"
          }
        }
      ]
    }
  ]
}